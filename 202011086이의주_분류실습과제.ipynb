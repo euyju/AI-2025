{
  "nbformat": 4,
  "nbformat_minor": 0,
  "metadata": {
    "colab": {
      "provenance": [],
      "authorship_tag": "ABX9TyO9y7jZexpOCSj41LcoR1l/",
      "include_colab_link": true
    },
    "kernelspec": {
      "name": "python3",
      "display_name": "Python 3"
    },
    "language_info": {
      "name": "python"
    }
  },
  "cells": [
    {
      "cell_type": "markdown",
      "metadata": {
        "id": "view-in-github",
        "colab_type": "text"
      },
      "source": [
        "<a href=\"https://colab.research.google.com/github/euyju/AI-2025/blob/main/202011086%EC%9D%B4%EC%9D%98%EC%A3%BC_%EB%B6%84%EB%A5%98%EC%8B%A4%EC%8A%B5%EA%B3%BC%EC%A0%9C.ipynb\" target=\"_parent\"><img src=\"https://colab.research.google.com/assets/colab-badge.svg\" alt=\"Open In Colab\"/></a>"
      ]
    },
    {
      "cell_type": "markdown",
      "source": [
        "# 1.분류\n"
      ],
      "metadata": {
        "id": "LlS2pEo1deuJ"
      }
    },
    {
      "cell_type": "code",
      "source": [
        "# 분류 문제: MNIST 손글씨 이미지를 0~9 숫자 중 하나로 분류\n",
        "# 목표: 28x28 크기의 이미지를 784 벡터로 변환하여 다중 클래스 분류 수행"
      ],
      "metadata": {
        "id": "4zjIIFB7dtsh"
      },
      "execution_count": 4,
      "outputs": []
    },
    {
      "cell_type": "markdown",
      "source": [
        "#2. 데이터셋"
      ],
      "metadata": {
        "id": "9r8URwbLmYVk"
      }
    },
    {
      "cell_type": "code",
      "source": [
        "import numpy as np\n",
        "import matplotlib.pyplot as plt\n",
        "from sklearn.datasets import fetch_openml\n",
        "from sklearn.model_selection import train_test_split\n",
        "from sklearn.metrics import confusion_matrix, f1_score\n",
        "\n",
        "# (28x28) 70K개\n",
        "mnist = fetch_openml('mnist_784', version=1)\n",
        "X = mnist.data.to_numpy()\n",
        "Y = mnist.target.astype(int)\n",
        "\n",
        "#정규화\n",
        "X = X / 255.0\n",
        "\n",
        "#트레이닝 셋, 테스트 셋 구분\n",
        "X_train, X_test, Y_train, Y_test = train_test_split(\n",
        "  X, Y, test_size=0.3, random_state=42)\n",
        "\n",
        "Y_train = Y_train.to_numpy()\n",
        "Y_test = Y_test.to_numpy()\n",
        "\n",
        "print(\"전체 데이터 개수:\", X.shape[0])\n",
        "print(\"훈련용 데이터 개수:\", X_train.shape[0])\n",
        "print(\"테스트용 데이터 개수:\", X_test.shape[0])"
      ],
      "metadata": {
        "colab": {
          "base_uri": "https://localhost:8080/"
        },
        "id": "WnqYeL89malq",
        "outputId": "c389d848-beb0-48e1-d8bc-d946f1bf1790"
      },
      "execution_count": 17,
      "outputs": [
        {
          "output_type": "stream",
          "name": "stdout",
          "text": [
            "전체 데이터 개수: 70000\n",
            "훈련용 데이터 개수: 49000\n",
            "테스트용 데이터 개수: 21000\n"
          ]
        }
      ]
    },
    {
      "cell_type": "markdown",
      "source": [
        "# 3. 모델설정"
      ],
      "metadata": {
        "id": "5VfKWiYvsASn"
      }
    },
    {
      "cell_type": "code",
      "source": [
        "class LogisticRegressionOVR:\n",
        "    def __init__(self, lr=0.1, epochs=1000):\n",
        "        self.lr = lr\n",
        "        self.epochs = epochs\n",
        "        self.weights = None\n",
        "\n",
        "    def sigmoid(self, z):\n",
        "        return 1 / (1 + np.exp(-z))\n",
        "\n",
        "    def compute_loss(self, y, y_hat):\n",
        "        m = len(y)\n",
        "        return -1/m * np.sum(y * np.log(y_hat + 1e-8) +\n",
        "                             (1 - y) * np.log(1 - y_hat + 1e-8))\n",
        "\n",
        "    def fit(self, X, y):\n",
        "        m, n = X.shape\n",
        "        X = np.hstack([np.ones((m, 1)), X])\n",
        "        self.weights = np.zeros((10, n + 1))\n",
        "\n",
        "        for i in range(self.epochs):\n",
        "            for c in range(10):\n",
        "                y_c = (y == c).astype(int).reshape(-1, 1)\n",
        "                z = np.dot(X, self.weights[c].reshape(-1, 1))\n",
        "                y_hat = self.sigmoid(z)\n",
        "                gradient = (1/m) * np.dot(X.T, (y_hat - y_c))\n",
        "                self.weights[c] -= self.lr * gradient.flatten()\n",
        "\n",
        "    def predict(self, X):\n",
        "        m = X.shape[0]\n",
        "        X = np.hstack([np.ones((m, 1)), X])\n",
        "        logits = np.dot(X, self.weights.T)\n",
        "        probabilities = self.sigmoid(logits)\n",
        "        return np.argmax(probabilities, axis=1)"
      ],
      "metadata": {
        "id": "GfkXvssqsDJH"
      },
      "execution_count": 18,
      "outputs": []
    },
    {
      "cell_type": "markdown",
      "source": [
        "# 4. 모델 훈련"
      ],
      "metadata": {
        "id": "AyPUBGzLsDeK"
      }
    },
    {
      "cell_type": "code",
      "source": [
        "model = LogisticRegressionOVR(lr=0.1, epochs=1000)\n",
        "losses = model.fit(X_train, Y_train)"
      ],
      "metadata": {
        "id": "IVNbxptSsFdG"
      },
      "execution_count": 19,
      "outputs": []
    },
    {
      "cell_type": "markdown",
      "source": [
        "# 5. 모델 검증"
      ],
      "metadata": {
        "id": "bMJ19Uw8sFm-"
      }
    },
    {
      "cell_type": "code",
      "source": [
        "Y_pred = model.predict(X_test)\n",
        "\n",
        "# Confusion matrix\n",
        "cm = confusion_matrix(Y_test, Y_pred)\n",
        "print(\"Confusion Matrix:\\n\", cm)\n",
        "\n",
        "# F1 Score 출력\n",
        "f1 = f1_score(Y_test, Y_pred, average='macro')\n",
        "print(\"F1 Score (macro):\", f1)"
      ],
      "metadata": {
        "colab": {
          "base_uri": "https://localhost:8080/"
        },
        "id": "55snv6M4sHRy",
        "outputId": "5188b083-319d-47dc-c2ab-978f7919b0bf"
      },
      "execution_count": 20,
      "outputs": [
        {
          "output_type": "stream",
          "name": "stdout",
          "text": [
            "Confusion Matrix:\n",
            " [[1986    1    4    1    6   10   23    2   23    2]\n",
            " [   0 2292    6   14    2   12    1    8   27    2]\n",
            " [  16   33 1829   32   35    4   53   39   73   19]\n",
            " [  11   18   59 1897    2   59   26   27   49   28]\n",
            " [   3   11   16    4 1757    3   13    5   21  103]\n",
            " [  43   23   12  115   41 1498   37   12   97   37]\n",
            " [  10    8   21    4   25   29 1979    2   10    0]\n",
            " [  17   26   40   10   25    4    0 2054    7   65]\n",
            " [  16   64   19   67   16   56   23   15 1671   45]\n",
            " [  20   16   19   32   75   16    0   78   26 1808]]\n",
            "F1 Score (macro): 0.8918271435552135\n"
          ]
        }
      ]
    }
  ]
}